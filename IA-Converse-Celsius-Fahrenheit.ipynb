{
  "nbformat": 4,
  "nbformat_minor": 0,
  "metadata": {
    "colab": {
      "name": "Copy of First_cod.ipynb",
      "version": "0.3.2",
      "provenance": [],
      "collapsed_sections": [],
      "include_colab_link": true
    },
    "kernelspec": {
      "name": "python3",
      "display_name": "Python 3"
    }
  },
  "cells": [
    {
      "cell_type": "markdown",
      "metadata": {
        "id": "view-in-github",
        "colab_type": "text"
      },
      "source": [
        "<a href=\"https://colab.research.google.com/github/didimarques01/training-model-IA/blob/master/IA-Converse-Celsius-Fahrenheit.ipynb\" target=\"_parent\"><img src=\"https://colab.research.google.com/assets/colab-badge.svg\" alt=\"Open In Colab\"/></a>"
      ]
    },
    {
      "cell_type": "markdown",
      "metadata": {
        "id": "9AYvkYYpgLlu",
        "colab_type": "text"
      },
      "source": [
        "**O Básico: Treinando o primeiro modelo**\n",
        "\n",
        "Bem-Vindo ao Colab aqui você irá treinar seu primeiro modelo de Machine Learning\n",
        "\n",
        "Tentaremos manter as coisas simples por aqui, apenas passando conceitos introdutorios básicos.\n",
        "\n",
        "O problema a seguir envolve converter a temperatura de Celsius para Fahrenheit, no qual a formúla é:\n",
        "\n",
        "                 F = (c x 1,8) + 32\n",
        "\n",
        "daremos para o TensorFlow valores de entrada(0, 8, 15, 22, 38) e os valores correspondetes de sáida em Fahrenheit(32, 46, 59, 72, 100). Dessa forma, Iremos treinar o modelo para encontrar algum algoritmo que indique a formúla passada anteriormente.          \n",
        "    \n",
        "            "
      ]
    },
    {
      "cell_type": "markdown",
      "metadata": {
        "id": "5O_B4d4rh4eD",
        "colab_type": "text"
      },
      "source": [
        "**Import dependencies**\n",
        "\n",
        "Primeiro vamos importar as bibliotecas do Tensor Flow e logo em seguida o NumPy"
      ]
    },
    {
      "cell_type": "code",
      "metadata": {
        "id": "exg--ptRYXp0",
        "colab_type": "code",
        "colab": {}
      },
      "source": [
        "import tensorflow as tf\n",
        "tf.logging.set_verbosity(tf.logging.ERROR)\n",
        "\n",
        "import numpy as np"
      ],
      "execution_count": 0,
      "outputs": []
    },
    {
      "cell_type": "markdown",
      "metadata": {
        "id": "LzZA12e9iY8j",
        "colab_type": "text"
      },
      "source": [
        "**Inserindo os dados que serão treinados**\n",
        "\n",
        "O aprendizado de máquina supervisionado tem tudo a ver com um algotitmo, considerando um conjunto de entradas e saídas. Como a tarefa neste Codelab é criar um modelo que possa fornecer a temperatura em Fahrenheit quando receber o grau em Celsius, criamos duas listas celsius_q e fahrenheit_a que podemos usar para treinar nosso modelo."
      ]
    },
    {
      "cell_type": "code",
      "metadata": {
        "id": "XVwuu3RqkddQ",
        "colab_type": "code",
        "outputId": "7d2fceb2-04e7-4434-9be4-9e0a7b87986d",
        "colab": {
          "base_uri": "https://localhost:8080/",
          "height": 136
        }
      },
      "source": [
        "celsius_q =    np.array([-40, -10, 0,  8,  15, 22,  38], dtype=float)\n",
        "fahrenheit_a = np.array([-40,  14, 32, 46, 59, 72, 100], dtype=float)\n",
        "\n",
        "for i,c in enumerate(celsius_q):\n",
        "    print(\"{} grau Celsius = {} grau Fahrenheit\".format(c, fahrenheit_a[i]))"
      ],
      "execution_count": 44,
      "outputs": [
        {
          "output_type": "stream",
          "text": [
            "-40.0 grau Celsius = -40.0 grau Fahrenheit\n",
            "-10.0 grau Celsius = 14.0 grau Fahrenheit\n",
            "0.0 grau Celsius = 32.0 grau Fahrenheit\n",
            "8.0 grau Celsius = 46.0 grau Fahrenheit\n",
            "15.0 grau Celsius = 59.0 grau Fahrenheit\n",
            "22.0 grau Celsius = 72.0 grau Fahrenheit\n",
            "38.0 grau Celsius = 100.0 grau Fahrenheit\n"
          ],
          "name": "stdout"
        }
      ]
    },
    {
      "cell_type": "markdown",
      "metadata": {
        "id": "QSMrr7Ign43D",
        "colab_type": "text"
      },
      "source": [
        "**Create the Model**\n",
        "\n",
        "Vamos Criar o modelo."
      ]
    },
    {
      "cell_type": "markdown",
      "metadata": {
        "id": "zRcxdvYPoH9C",
        "colab_type": "text"
      },
      "source": [
        "**Construindo uma camada**\n",
        "\n",
        "chamaremos a camada l0 e a criaremos instantaneamente tf.keras.layers.Dense com a seguinte configuração.\n",
        "\n",
        "  \n",
        "\n",
        "*   input_shape = [1] - \n",
        "Isso especifica que a entrada para a camada é um valor único. isto é, a forma é uma matriz unidimensional com um membro. Como essa é a primeira (e única) camada, esse formato de entrada é o formato de entrada de todo o modelo. O valor único é um número de ponto flutuante, representando graus Celsius.\n",
        "\n",
        "*   units=1 - Isso especifica o número de neurônios na camada. O número de neurônios define quantas variáveis internas a camada precisa tentar aprender a resolver o problema (mais adiante). Uma vez que esta é a camada final. É também o tamanho da saída do modelo - um único valor flutuante representando o grau Fahrenheit. (Em uma rede de várias camadas, o tamanho e a forma da última precisarão corresponder à forma de entrada da próxima camada)\n",
        "\n"
      ]
    },
    {
      "cell_type": "code",
      "metadata": {
        "id": "V9T3Ky5nvtK1",
        "colab_type": "code",
        "colab": {}
      },
      "source": [
        "l0 = tf.keras.layers.Dense(units=1, input_shape=[1])"
      ],
      "execution_count": 0,
      "outputs": []
    },
    {
      "cell_type": "markdown",
      "metadata": {
        "id": "BYvm4KQcKzl-",
        "colab_type": "text"
      },
      "source": [
        "**Montar camadas no modelo**\n",
        "\n",
        "Depois que as camadas são definidas, elas precisam ser montadas em um modelo. A definição de modelo sequencial usa uma lista de camadas como argumento, especificando a ordem de cálculo da entrada à saída"
      ]
    },
    {
      "cell_type": "code",
      "metadata": {
        "id": "gGKYtNo_QGyI",
        "colab_type": "code",
        "colab": {}
      },
      "source": [
        "model = tf.keras.Sequential([l0])"
      ],
      "execution_count": 0,
      "outputs": []
    },
    {
      "cell_type": "markdown",
      "metadata": {
        "id": "qDH3KbvARhJK",
        "colab_type": "text"
      },
      "source": [
        "**Compilando o modelo, com função perda e otimizador**\n",
        "\n",
        "Antes do treinament o modelo tem que ser compilado. Quando compilado para treino, o modelo terá:\n",
        "\n",
        "\n",
        "\n",
        "\n",
        "*   Loss function - Uma maneira de medir a que distância estão as previsões do resultado desejado (a diferença medida é chamada de perda).\n",
        "\n",
        "*   Optimizer function - uma maneira de ajustar os valores internos para reduzir a perda.\n",
        "\n",
        "\n",
        "\n"
      ]
    },
    {
      "cell_type": "code",
      "metadata": {
        "id": "meNJMZ1DSnC6",
        "colab_type": "code",
        "colab": {}
      },
      "source": [
        "model.compile(loss='mean_squared_error', \n",
        "              optimizer=tf.keras.optimizers.Adam(0.1))"
      ],
      "execution_count": 0,
      "outputs": []
    },
    {
      "cell_type": "markdown",
      "metadata": {
        "id": "gTO5LzoATyM4",
        "colab_type": "text"
      },
      "source": [
        "TensorFlow usa analíse númerica para encontrar o melhor modelo. E o TensorFlow encapsula toda a complexidade que está acontecendo.\n",
        "\n",
        "O 0.1 é chamado de taxa de aprendizagem. É possívl ajustar ao treinar seus próprios modelos. Serve para informar ao TensorFlow com que agressividade ele deve tentar encontrar o melhor modelo. Qualquer valor entre 0,1 e 0,001 pode fazer sentido."
      ]
    },
    {
      "cell_type": "markdown",
      "metadata": {
        "id": "yl3NION3WoEC",
        "colab_type": "text"
      },
      "source": [
        "**Treinando o modelo**\n",
        "\n",
        "Treinar o modelo chamando o método de ajuste.\n",
        "\n",
        "Durante o treinamento, o modelo obtém valores Celsius, realiza um cálculo usando as variáveis internas atuais (chamadas \"pesos\") e gera valores que devem ser equivalentes a Fahrenheit. Como as ponderações são inicialmente definidas aleatoriamente, a saída não estará próxima do valor correto. A diferença entre a saída real e a saída desejada é calculada usando a função de perda, e a função otimizador direciona como os pesos devem ser ajustados.\n",
        "\n",
        "Neste ciclo de cálculo, o ajuste de comparação é controlado pelo método de ajuste. O primeiro argumento são as entradas, o segundo argumento são as saídas desejadas. O argumento das épocas especifica quantas vezes esse ciclo deve ser executado, e o argumento detalhado controla a quantidade de saída que o método produz."
      ]
    },
    {
      "cell_type": "code",
      "metadata": {
        "id": "d3YSfwNpbZpS",
        "colab_type": "code",
        "colab": {
          "base_uri": "https://localhost:8080/",
          "height": 34
        },
        "outputId": "7465da9d-be95-4001-a1ab-fd455e27b61e"
      },
      "source": [
        "history = model.fit(celsius_q, fahrenheit_a, epochs=500, verbose=False)\n",
        "print(\"Finished training the model\")"
      ],
      "execution_count": 48,
      "outputs": [
        {
          "output_type": "stream",
          "text": [
            "Finished training the model\n"
          ],
          "name": "stdout"
        }
      ]
    },
    {
      "cell_type": "markdown",
      "metadata": {
        "id": "eDtiOSgUcgH4",
        "colab_type": "text"
      },
      "source": [
        "epochs é uma interação completa dos exemplos que vimos dos valores de Celsius e Fahrenheit. Como tivemos 7 exemplos mapeados de Celsius e Fahrenheit o modelos treinará 3.500 exemplos"
      ]
    },
    {
      "cell_type": "markdown",
      "metadata": {
        "id": "Hq3HjEZTYCGQ",
        "colab_type": "text"
      },
      "source": [
        "**Gráfico de estatísticas de treinamento**\n",
        "\n",
        "O método fit retorna um objeto de histórico. Podemos usar esse objeto para traçar a perda de nosso modelo diminui após cada época de treinamento. Uma perda alta significa que o grau Fahrenheit previsto pelo modelo está longe do valor correspondente em fahrenheit_a.\n",
        "\n",
        "Bem, use o Matplotlib para visualizá-lo (você pode usar outra ferramenta). Como você vê no carro, nosso modelo melhora muito rapidamente no início, e ele tem uma melhoria lenta e constante até que esteja quase \"perfeito\" no final."
      ]
    },
    {
      "cell_type": "code",
      "metadata": {
        "id": "TJtZ3B6NZxUU",
        "colab_type": "code",
        "colab": {
          "base_uri": "https://localhost:8080/",
          "height": 300
        },
        "outputId": "464bceb5-b13c-4985-b3b0-aa45635391e6"
      },
      "source": [
        "import matplotlib.pyplot as plt\n",
        "\n",
        "plt.xlabel('Epoch Number')\n",
        "plt.ylabel(\"Loss Magnitude\")\n",
        "plt.plot(history.history['loss'])"
      ],
      "execution_count": 49,
      "outputs": [
        {
          "output_type": "execute_result",
          "data": {
            "text/plain": [
              "[<matplotlib.lines.Line2D at 0x7f8ffbb38d30>]"
            ]
          },
          "metadata": {
            "tags": []
          },
          "execution_count": 49
        },
        {
          "output_type": "display_data",
          "data": {
            "image/png": "[encoded data removed]",
            "text/plain": [
              "<Figure size 432x288 with 1 Axes>"
            ]
          },
          "metadata": {
            "tags": []
          }
        }
      ]
    },
    {
      "cell_type": "markdown",
      "metadata": {
        "id": "Nyko3bN1bawe",
        "colab_type": "text"
      },
      "source": [
        "Podemos ver que no começo a perda é muito grande, ou seja, a IA perde muitos exemplos de treinamento, mas conforme vai passando as épocas ela aperfeiçoa o treinamento. "
      ]
    },
    {
      "cell_type": "markdown",
      "metadata": {
        "id": "loH4P10lcYl-",
        "colab_type": "text"
      },
      "source": [
        "**Usando o modelo para prever valores**\n",
        "\n",
        "Agora você tem um modelo que foi treinado para aprender a relação entre celsius_q e fahrenheit_a. Você pode usar o método de previsão para calcular o grau Fahrenheit para um grau Celsius desconhecido anteriormente.\n",
        "\n",
        "Então, por exemplo, se o valor de Celsius for 200, Qual você acha que será o resultado em Fahrenheit? Adivinhe antes de executar o código."
      ]
    },
    {
      "cell_type": "code",
      "metadata": {
        "id": "uuowB74Mdz-w",
        "colab_type": "code",
        "colab": {
          "base_uri": "https://localhost:8080/",
          "height": 34
        },
        "outputId": "671493ce-5f11-4179-a30b-7c1a9a4f3ed9"
      },
      "source": [
        "print(model.predict([100.0]))"
      ],
      "execution_count": 50,
      "outputs": [
        {
          "output_type": "stream",
          "text": [
            "[[211.3278]]\n"
          ],
          "name": "stdout"
        }
      ]
    },
    {
      "cell_type": "markdown",
      "metadata": {
        "id": "TZHJhGx9fNna",
        "colab_type": "text"
      },
      "source": [
        "A resposta certa é: (100 x 1,8) + 32 = 212. Seu modelo treinou muito bem.\n",
        "\n",
        "Lembrando que o modelo não fazia ideia da equação de conversão de temperatura."
      ]
    },
    {
      "cell_type": "markdown",
      "metadata": {
        "id": "Nsztvq5_gcmZ",
        "colab_type": "text"
      },
      "source": [
        "**Exibindo as camdas internas de Pesos**\n",
        "\n",
        "Finalmente vamos imprimir as variáveis internas das camadas densas.\n"
      ]
    },
    {
      "cell_type": "code",
      "metadata": {
        "id": "TQ7fKO65hCF5",
        "colab_type": "code",
        "colab": {
          "base_uri": "https://localhost:8080/",
          "height": 34
        },
        "outputId": "97dcf07c-fdb6-40f0-c693-e261164d2e96"
      },
      "source": [
        "print(\"Essas são as variáveis nas camadas: {}\".format(l0.get_weights()))"
      ],
      "execution_count": 51,
      "outputs": [
        {
          "output_type": "stream",
          "text": [
            "Essas são as variáveis nas camadas: [array([[1.8220137]], dtype=float32), array([29.126434], dtype=float32)]\n"
          ],
          "name": "stdout"
        }
      ]
    },
    {
      "cell_type": "markdown",
      "metadata": {
        "id": "5vQXw68Xh0-6",
        "colab_type": "text"
      },
      "source": [
        "A primeira variável está perto de ~ 1,8 e o segundo em ~ 32. \n",
        "Esses valores (1.8 e 32) são as variáveis reais na fórmula de conversão real.\n",
        "\n",
        "Isso é muito próximo dos valores na fórmula de conversão. Explicaremos isso em um próximo vídeo, onde mostraremos como uma camada densa funciona, mas para um único neurônio com uma única entrada e uma única saída, a matemática interna é igual à equação de uma linha y = mx + h, que a mesma forma que a equação de conversão f = 1,8c + 32.\n",
        "\n",
        "Como o formulário é o mesmo, as variáveis devem convergir para os valores padrão de 1,0 e 32, o que aconteceu exatamente.\n",
        "\n",
        "Com neurônios adicionais, entradas adicionais e otputs adicionais, a fórmula se torna muito mais complexa, mas a idéia é a mesma."
      ]
    },
    {
      "cell_type": "markdown",
      "metadata": {
        "id": "Oa44rvpJ0v70",
        "colab_type": "text"
      },
      "source": [
        "**Um pequeno experimento**\n",
        "\n",
        "Apenas por diversão, se nós criarmos mais uma camada densa com diferentes units, que portanto também, tem mais variáveis? "
      ]
    },
    {
      "cell_type": "code",
      "metadata": {
        "id": "-pPa_BI32NqV",
        "colab_type": "code",
        "colab": {
          "base_uri": "https://localhost:8080/",
          "height": 323
        },
        "outputId": "b28fa889-9d86-4db1-d7a3-9541ade5396e"
      },
      "source": [
        "l0 = tf.keras.layers.Dense(units=4, input_shape=[1])\n",
        "l1 = tf.keras.layers.Dense(units=4)\n",
        "l2 = tf.keras.layers.Dense(units=1)\n",
        "model = tf.keras.Sequential([l0, l1, l2])\n",
        "model.compile(loss = 'mean_squared_error', optimizer=tf.keras.optimizers.Adam(0.1))\n",
        "model.fit(celsius_q, fahrenheit_a, epochs=500, verbose=False)\n",
        "print('Finished training the model')\n",
        "print(model.predict([100.0]))\n",
        "print(\"Previsão do modelo de 100 graus Celsius é: {} graus Fahrenheit\".format(model.predict([100.0])),\"\\n\")\n",
        "print(\"Essas são as variáveis l0 nas camadas: {}\".format(l0.get_weights()),\"\\n\")\n",
        "print(\"Essas são as variáveis l1 nas camadas: {}\".format(l1.get_weights()),\"\\n\")\n",
        "print(\"Essas são as variáveis l2 nas camadas: {}\".format(l2.get_weights()),\"\\n\")"
      ],
      "execution_count": 65,
      "outputs": [
        {
          "output_type": "stream",
          "text": [
            "Finished training the model\n",
            "[[211.74744]]\n",
            "Previsão do modelo de 100 graus Celsius é: [[211.74744]] graus Fahrenheit \n",
            "\n",
            "Essas são as variáveis l0 nas camadas: [array([[-0.57903737, -0.3378282 , -0.01648415, -0.41611645]],\n",
            "      dtype=float32), array([-3.4787624, -3.306616 ,  3.109909 , -3.3754115], dtype=float32)] \n",
            "\n",
            "Essas são as variáveis l1 nas camadas: [array([[ 0.10213055,  0.14105873, -0.04043552, -1.0576183 ],\n",
            "       [ 0.55108935, -0.01364621,  0.66462094, -0.29461637],\n",
            "       [-0.00752157, -0.13063838, -0.27760828,  1.0270787 ],\n",
            "       [ 0.4719511 ,  1.1198874 , -0.32088074, -0.5378943 ]],\n",
            "      dtype=float32), array([-3.3266766, -3.139364 , -2.6925497,  3.4313734], dtype=float32)] \n",
            "\n",
            "Essas são as variáveis l2 nas camadas: [array([[-0.7481978 ],\n",
            "       [-1.0795766 ],\n",
            "       [-0.64094806],\n",
            "       [ 0.9177069 ]], dtype=float32), array([3.314917], dtype=float32)] \n",
            "\n"
          ],
          "name": "stdout"
        }
      ]
    }
  ]
}